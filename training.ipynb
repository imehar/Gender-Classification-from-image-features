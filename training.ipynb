{
 "cells": [
  {
   "cell_type": "code",
   "execution_count": 1,
   "metadata": {
    "colab": {
     "base_uri": "https://localhost:8080/",
     "height": 34
    },
    "colab_type": "code",
    "id": "ObmqYIZ4lCFX",
    "outputId": "5d3984fd-f228-4971-a235-285983246904"
   },
   "outputs": [],
   "source": [
    "import os\n",
    "import dlib\n",
    "import sys\n",
    "import numpy as np\n",
    "\n",
    "import pandas as pd\n",
    "import pickle\n",
    "import os,os.path\n",
    "from sklearn import svm\n",
    "from sklearn.linear_model import LogisticRegression\n",
    "from sklearn.model_selection import train_test_split\n",
    "from sklearn.model_selection import GridSearchCV\n"
   ]
  },
  {
   "cell_type": "code",
   "execution_count": 2,
   "metadata": {
    "colab": {},
    "colab_type": "code",
    "id": "gW5JGVSkFnZx"
   },
   "outputs": [],
   "source": [
    "#!pip install face_recognition"
   ]
  },
  {
   "cell_type": "code",
   "execution_count": 3,
   "metadata": {
    "colab": {},
    "colab_type": "code",
    "id": "OTJJxe3VplVB"
   },
   "outputs": [],
   "source": [
    "# dlib.DLIB_USE_CUDA=1\n",
    "# dlib.USE_AVX_INSTRUCTIONS=1\n",
    "import face_recognition as fr"
   ]
  },
  {
   "cell_type": "code",
   "execution_count": 9,
   "metadata": {
    "colab": {},
    "colab_type": "code",
    "id": "-fw4cuM5lwzl"
   },
   "outputs": [
    {
     "data": {
      "text/plain": [
       "'/media/omkar/B608-4190/PA/Classification/'"
      ]
     },
     "execution_count": 9,
     "metadata": {},
     "output_type": "execute_result"
    }
   ],
   "source": [
    "path = os.getcwd() + '/'\n",
    "path"
   ]
  },
  {
   "cell_type": "code",
   "execution_count": 10,
   "metadata": {
    "colab": {
     "base_uri": "https://localhost:8080/",
     "height": 221
    },
    "colab_type": "code",
    "id": "eSjSChlfmCiC",
    "outputId": "42cc0df9-1bfc-416e-f1a5-94a640ca4c64"
   },
   "outputs": [],
   "source": [
    "#os.listdir(path)"
   ]
  },
  {
   "cell_type": "code",
   "execution_count": 11,
   "metadata": {
    "colab": {},
    "colab_type": "code",
    "id": "25IJoKNCmElI"
   },
   "outputs": [],
   "source": [
    "list_data = ['final_frontal0.csv',\n",
    " 'final_frontal1.csv',\n",
    " 'final_frontal2.csv',\n",
    " 'final_frontal3.csv',\n",
    " 'final_frontal4.csv']"
   ]
  },
  {
   "cell_type": "code",
   "execution_count": 12,
   "metadata": {
    "colab": {
     "base_uri": "https://localhost:8080/",
     "height": 326
    },
    "colab_type": "code",
    "id": "FJclpVuWmowk",
    "outputId": "69995ff0-2879-469e-cbdd-64637f3f31d8"
   },
   "outputs": [
    {
     "data": {
      "text/html": [
       "<div>\n",
       "<style scoped>\n",
       "    .dataframe tbody tr th:only-of-type {\n",
       "        vertical-align: middle;\n",
       "    }\n",
       "\n",
       "    .dataframe tbody tr th {\n",
       "        vertical-align: top;\n",
       "    }\n",
       "\n",
       "    .dataframe thead th {\n",
       "        text-align: right;\n",
       "    }\n",
       "</style>\n",
       "<table border=\"1\" class=\"dataframe\">\n",
       "  <thead>\n",
       "    <tr style=\"text-align: right;\">\n",
       "      <th></th>\n",
       "      <th>Unnamed: 0</th>\n",
       "      <th>user_id</th>\n",
       "      <th>original_image</th>\n",
       "      <th>face_id</th>\n",
       "      <th>age</th>\n",
       "      <th>gender</th>\n",
       "      <th>x</th>\n",
       "      <th>y</th>\n",
       "      <th>dx</th>\n",
       "      <th>dy</th>\n",
       "      <th>tilt_ang</th>\n",
       "      <th>fiducial_yaw_angle</th>\n",
       "      <th>fiducial_score</th>\n",
       "    </tr>\n",
       "  </thead>\n",
       "  <tbody>\n",
       "    <tr>\n",
       "      <th>0</th>\n",
       "      <td>0</td>\n",
       "      <td>30601258@N03</td>\n",
       "      <td>10424815813_e94629b1ec_o.jpg</td>\n",
       "      <td>2</td>\n",
       "      <td>(25, 32)</td>\n",
       "      <td>m</td>\n",
       "      <td>301</td>\n",
       "      <td>105</td>\n",
       "      <td>640</td>\n",
       "      <td>641</td>\n",
       "      <td>0</td>\n",
       "      <td>0</td>\n",
       "      <td>94</td>\n",
       "    </tr>\n",
       "    <tr>\n",
       "      <th>1</th>\n",
       "      <td>1</td>\n",
       "      <td>30601258@N03</td>\n",
       "      <td>10437979845_5985be4b26_o.jpg</td>\n",
       "      <td>3</td>\n",
       "      <td>(25, 32)</td>\n",
       "      <td>m</td>\n",
       "      <td>752</td>\n",
       "      <td>1255</td>\n",
       "      <td>484</td>\n",
       "      <td>485</td>\n",
       "      <td>180</td>\n",
       "      <td>0</td>\n",
       "      <td>47</td>\n",
       "    </tr>\n",
       "    <tr>\n",
       "      <th>2</th>\n",
       "      <td>2</td>\n",
       "      <td>30601258@N03</td>\n",
       "      <td>11816644924_075c3d8d59_o.jpg</td>\n",
       "      <td>2</td>\n",
       "      <td>(25, 32)</td>\n",
       "      <td>m</td>\n",
       "      <td>175</td>\n",
       "      <td>80</td>\n",
       "      <td>769</td>\n",
       "      <td>768</td>\n",
       "      <td>-75</td>\n",
       "      <td>0</td>\n",
       "      <td>34</td>\n",
       "    </tr>\n",
       "    <tr>\n",
       "      <th>3</th>\n",
       "      <td>3</td>\n",
       "      <td>30601258@N03</td>\n",
       "      <td>10424595844_1009c687e4_o.jpg</td>\n",
       "      <td>4</td>\n",
       "      <td>(38, 43)</td>\n",
       "      <td>f</td>\n",
       "      <td>1912</td>\n",
       "      <td>905</td>\n",
       "      <td>1224</td>\n",
       "      <td>1224</td>\n",
       "      <td>155</td>\n",
       "      <td>0</td>\n",
       "      <td>64</td>\n",
       "    </tr>\n",
       "    <tr>\n",
       "      <th>4</th>\n",
       "      <td>4</td>\n",
       "      <td>30601258@N03</td>\n",
       "      <td>10190308156_5c748ab2da_o.jpg</td>\n",
       "      <td>2</td>\n",
       "      <td>(25, 32)</td>\n",
       "      <td>m</td>\n",
       "      <td>1013</td>\n",
       "      <td>1039</td>\n",
       "      <td>453</td>\n",
       "      <td>452</td>\n",
       "      <td>-75</td>\n",
       "      <td>0</td>\n",
       "      <td>59</td>\n",
       "    </tr>\n",
       "  </tbody>\n",
       "</table>\n",
       "</div>"
      ],
      "text/plain": [
       "   Unnamed: 0       user_id                original_image  face_id       age  \\\n",
       "0           0  30601258@N03  10424815813_e94629b1ec_o.jpg        2  (25, 32)   \n",
       "1           1  30601258@N03  10437979845_5985be4b26_o.jpg        3  (25, 32)   \n",
       "2           2  30601258@N03  11816644924_075c3d8d59_o.jpg        2  (25, 32)   \n",
       "3           3  30601258@N03  10424595844_1009c687e4_o.jpg        4  (38, 43)   \n",
       "4           4  30601258@N03  10190308156_5c748ab2da_o.jpg        2  (25, 32)   \n",
       "\n",
       "  gender     x     y    dx    dy  tilt_ang  fiducial_yaw_angle  fiducial_score  \n",
       "0      m   301   105   640   641         0                   0              94  \n",
       "1      m   752  1255   484   485       180                   0              47  \n",
       "2      m   175    80   769   768       -75                   0              34  \n",
       "3      f  1912   905  1224  1224       155                   0              64  \n",
       "4      m  1013  1039   453   452       -75                   0              59  "
      ]
     },
     "execution_count": 12,
     "metadata": {},
     "output_type": "execute_result"
    }
   ],
   "source": [
    "data = pd.read_csv(path+'final_frontal0.csv')\n",
    "data.head()"
   ]
  },
  {
   "cell_type": "code",
   "execution_count": 13,
   "metadata": {
    "colab": {
     "base_uri": "https://localhost:8080/",
     "height": 204
    },
    "colab_type": "code",
    "id": "6CpRcKbGm2jC",
    "outputId": "7827ca89-f1bf-43a3-ba0f-725610188b92"
   },
   "outputs": [
    {
     "data": {
      "text/html": [
       "<div>\n",
       "<style scoped>\n",
       "    .dataframe tbody tr th:only-of-type {\n",
       "        vertical-align: middle;\n",
       "    }\n",
       "\n",
       "    .dataframe tbody tr th {\n",
       "        vertical-align: top;\n",
       "    }\n",
       "\n",
       "    .dataframe thead th {\n",
       "        text-align: right;\n",
       "    }\n",
       "</style>\n",
       "<table border=\"1\" class=\"dataframe\">\n",
       "  <thead>\n",
       "    <tr style=\"text-align: right;\">\n",
       "      <th></th>\n",
       "      <th>user_id</th>\n",
       "      <th>original_image</th>\n",
       "      <th>gender</th>\n",
       "      <th>age</th>\n",
       "    </tr>\n",
       "  </thead>\n",
       "  <tbody>\n",
       "    <tr>\n",
       "      <th>0</th>\n",
       "      <td>30601258@N03</td>\n",
       "      <td>10424815813_e94629b1ec_o.jpg</td>\n",
       "      <td>m</td>\n",
       "      <td>(25, 32)</td>\n",
       "    </tr>\n",
       "    <tr>\n",
       "      <th>1</th>\n",
       "      <td>30601258@N03</td>\n",
       "      <td>10437979845_5985be4b26_o.jpg</td>\n",
       "      <td>m</td>\n",
       "      <td>(25, 32)</td>\n",
       "    </tr>\n",
       "    <tr>\n",
       "      <th>2</th>\n",
       "      <td>30601258@N03</td>\n",
       "      <td>11816644924_075c3d8d59_o.jpg</td>\n",
       "      <td>m</td>\n",
       "      <td>(25, 32)</td>\n",
       "    </tr>\n",
       "    <tr>\n",
       "      <th>3</th>\n",
       "      <td>30601258@N03</td>\n",
       "      <td>10424595844_1009c687e4_o.jpg</td>\n",
       "      <td>f</td>\n",
       "      <td>(38, 43)</td>\n",
       "    </tr>\n",
       "    <tr>\n",
       "      <th>4</th>\n",
       "      <td>30601258@N03</td>\n",
       "      <td>10190308156_5c748ab2da_o.jpg</td>\n",
       "      <td>m</td>\n",
       "      <td>(25, 32)</td>\n",
       "    </tr>\n",
       "  </tbody>\n",
       "</table>\n",
       "</div>"
      ],
      "text/plain": [
       "        user_id                original_image gender       age\n",
       "0  30601258@N03  10424815813_e94629b1ec_o.jpg      m  (25, 32)\n",
       "1  30601258@N03  10437979845_5985be4b26_o.jpg      m  (25, 32)\n",
       "2  30601258@N03  11816644924_075c3d8d59_o.jpg      m  (25, 32)\n",
       "3  30601258@N03  10424595844_1009c687e4_o.jpg      f  (38, 43)\n",
       "4  30601258@N03  10190308156_5c748ab2da_o.jpg      m  (25, 32)"
      ]
     },
     "execution_count": 13,
     "metadata": {},
     "output_type": "execute_result"
    }
   ],
   "source": [
    "data = data[['user_id' ,'original_image',  'gender' ,'age']]\n",
    "data.head()"
   ]
  },
  {
   "cell_type": "code",
   "execution_count": 0,
   "metadata": {
    "colab": {},
    "colab_type": "code",
    "id": "4fwo_t9Tm4Tj"
   },
   "outputs": [],
   "source": [
    "def feature_extract(data):\n",
    "    file_path = path + 'file/'\n",
    "    count = 0\n",
    "    for index,row in data.iterrows():\n",
    "        if os.path.isfile(file_path + row['user_id'] +'/' + row['original_image']):\n",
    "            encode = fr.face_encodings(fr.load_image_file(file_path + row['user_id'] +'/' + row['original_image']))\n",
    "            if len(encode)>=1:\n",
    "                encode = encode[0]\n",
    "            else:\n",
    "                continue\n",
    "            if count == 0:\n",
    "                temp = np.array([row['user_id'],row['original_image'],row['gender'],row['age']])\n",
    "                temp = np.append(temp,encode)\n",
    "                df = pd.DataFrame(temp).T\n",
    "                count +=1\n",
    "            else:\n",
    "                temp = np.array([row['user_id'],row['original_image'],row['gender'],row['age']])\n",
    "                temp = np.append(temp,encode)\n",
    "                df = df.append(pd.DataFrame(temp).T ,ignore_index=True)           \n",
    "    return df"
   ]
  },
  {
   "cell_type": "code",
   "execution_count": 0,
   "metadata": {
    "colab": {
     "base_uri": "https://localhost:8080/",
     "height": 34
    },
    "colab_type": "code",
    "id": "YNcikkvZ1oW-",
    "outputId": "49925cae-74fe-4c5a-c466-51dfed37d6f8"
   },
   "outputs": [
    {
     "data": {
      "text/plain": [
       "(3210, 4)"
      ]
     },
     "execution_count": 15,
     "metadata": {
      "tags": []
     },
     "output_type": "execute_result"
    }
   ],
   "source": [
    "data.shape"
   ]
  },
  {
   "cell_type": "code",
   "execution_count": 0,
   "metadata": {
    "colab": {},
    "colab_type": "code",
    "id": "1XNwN6VsDN9x"
   },
   "outputs": [],
   "source": [
    "final_df = feature_extract(data)"
   ]
  },
  {
   "cell_type": "code",
   "execution_count": 0,
   "metadata": {
    "colab": {},
    "colab_type": "code",
    "id": "yARH5tqWDgt2"
   },
   "outputs": [],
   "source": [
    "final_df.to_csv(path + 'feature0.csv')"
   ]
  },
  {
   "cell_type": "code",
   "execution_count": 0,
   "metadata": {
    "colab": {},
    "colab_type": "code",
    "id": "h6S6Xt1qtQ_3"
   },
   "outputs": [],
   "source": [
    "for i in range(len(list_data)):\n",
    "    #print(list_data[i])\n",
    "    data = pd.read_csv(path+ list_data[i])\n",
    "    data = data[['user_id' ,'original_image',  'gender' ,'age']]\n",
    "    temp_df = feature_extract(data)\n",
    "    #print(temp_df.shape)\n",
    "    temp_df.to_csv(path + 'feature' + str(i) + '.csv')\n",
    "    if i==0:\n",
    "        final_df = temp_df.copy()\n",
    "    else:\n",
    "        final_df = final_df.append(temp_df,ignore_index=True)\n",
    "    #print(final_df.shape)"
   ]
  },
  {
   "cell_type": "code",
   "execution_count": 0,
   "metadata": {
    "colab": {
     "base_uri": "https://localhost:8080/",
     "height": 34
    },
    "colab_type": "code",
    "id": "231Mk8GyOt5v",
    "outputId": "370758f1-a205-4fa8-e014-351ec03ab91c"
   },
   "outputs": [
    {
     "data": {
      "text/plain": [
       "(10352, 265)"
      ]
     },
     "execution_count": 27,
     "metadata": {
      "tags": []
     },
     "output_type": "execute_result"
    }
   ],
   "source": [
    "final_df.shape"
   ]
  },
  {
   "cell_type": "code",
   "execution_count": 0,
   "metadata": {
    "colab": {},
    "colab_type": "code",
    "id": "LbLrtUH0MTQx"
   },
   "outputs": [],
   "source": [
    "del final_df"
   ]
  },
  {
   "cell_type": "code",
   "execution_count": 14,
   "metadata": {
    "colab": {},
    "colab_type": "code",
    "id": "DhR1rHN2uJ-K"
   },
   "outputs": [],
   "source": [
    "for i in range(len(list_data)):\n",
    "    read_df = pd.read_csv(path + 'feature' + str(i)+'.csv')\n",
    "    if i==0:\n",
    "        final_df = pd.DataFrame(read_df)\n",
    "    else:\n",
    "        final_df = final_df.append(read_df,ignore_index=True)\n",
    "    "
   ]
  },
  {
   "cell_type": "code",
   "execution_count": 15,
   "metadata": {
    "colab": {
     "base_uri": "https://localhost:8080/",
     "height": 355
    },
    "colab_type": "code",
    "id": "4RDn43hIL_AT",
    "outputId": "d5260bd3-010b-43b3-eaa9-13e2d3611d8f"
   },
   "outputs": [
    {
     "data": {
      "text/html": [
       "<div>\n",
       "<style scoped>\n",
       "    .dataframe tbody tr th:only-of-type {\n",
       "        vertical-align: middle;\n",
       "    }\n",
       "\n",
       "    .dataframe tbody tr th {\n",
       "        vertical-align: top;\n",
       "    }\n",
       "\n",
       "    .dataframe thead th {\n",
       "        text-align: right;\n",
       "    }\n",
       "</style>\n",
       "<table border=\"1\" class=\"dataframe\">\n",
       "  <thead>\n",
       "    <tr style=\"text-align: right;\">\n",
       "      <th></th>\n",
       "      <th>Unnamed: 0</th>\n",
       "      <th>0</th>\n",
       "      <th>1</th>\n",
       "      <th>2</th>\n",
       "      <th>3</th>\n",
       "      <th>4</th>\n",
       "      <th>5</th>\n",
       "      <th>6</th>\n",
       "      <th>7</th>\n",
       "      <th>8</th>\n",
       "      <th>...</th>\n",
       "      <th>122</th>\n",
       "      <th>123</th>\n",
       "      <th>124</th>\n",
       "      <th>125</th>\n",
       "      <th>126</th>\n",
       "      <th>127</th>\n",
       "      <th>128</th>\n",
       "      <th>129</th>\n",
       "      <th>130</th>\n",
       "      <th>131</th>\n",
       "    </tr>\n",
       "  </thead>\n",
       "  <tbody>\n",
       "    <tr>\n",
       "      <th>0</th>\n",
       "      <td>0</td>\n",
       "      <td>30601258@N03</td>\n",
       "      <td>10424815813_e94629b1ec_o.jpg</td>\n",
       "      <td>m</td>\n",
       "      <td>(25, 32)</td>\n",
       "      <td>-0.083294</td>\n",
       "      <td>0.087730</td>\n",
       "      <td>0.054649</td>\n",
       "      <td>-0.078772</td>\n",
       "      <td>-0.080640</td>\n",
       "      <td>...</td>\n",
       "      <td>0.077006</td>\n",
       "      <td>0.031769</td>\n",
       "      <td>-0.011822</td>\n",
       "      <td>-0.080471</td>\n",
       "      <td>-0.171120</td>\n",
       "      <td>-0.138578</td>\n",
       "      <td>-0.046703</td>\n",
       "      <td>0.034158</td>\n",
       "      <td>0.044308</td>\n",
       "      <td>0.026031</td>\n",
       "    </tr>\n",
       "    <tr>\n",
       "      <th>1</th>\n",
       "      <td>1</td>\n",
       "      <td>30601258@N03</td>\n",
       "      <td>10437979845_5985be4b26_o.jpg</td>\n",
       "      <td>m</td>\n",
       "      <td>(25, 32)</td>\n",
       "      <td>-0.164970</td>\n",
       "      <td>0.121995</td>\n",
       "      <td>0.052119</td>\n",
       "      <td>-0.091033</td>\n",
       "      <td>-0.089395</td>\n",
       "      <td>...</td>\n",
       "      <td>0.089980</td>\n",
       "      <td>0.020260</td>\n",
       "      <td>0.035951</td>\n",
       "      <td>-0.019216</td>\n",
       "      <td>-0.122825</td>\n",
       "      <td>-0.077148</td>\n",
       "      <td>0.033474</td>\n",
       "      <td>0.007737</td>\n",
       "      <td>0.004064</td>\n",
       "      <td>0.013872</td>\n",
       "    </tr>\n",
       "    <tr>\n",
       "      <th>2</th>\n",
       "      <td>2</td>\n",
       "      <td>30601258@N03</td>\n",
       "      <td>11816644924_075c3d8d59_o.jpg</td>\n",
       "      <td>m</td>\n",
       "      <td>(25, 32)</td>\n",
       "      <td>-0.115149</td>\n",
       "      <td>0.089949</td>\n",
       "      <td>0.051598</td>\n",
       "      <td>-0.037451</td>\n",
       "      <td>-0.072356</td>\n",
       "      <td>...</td>\n",
       "      <td>0.027709</td>\n",
       "      <td>0.034753</td>\n",
       "      <td>-0.023607</td>\n",
       "      <td>-0.066158</td>\n",
       "      <td>-0.171793</td>\n",
       "      <td>-0.112601</td>\n",
       "      <td>-0.049470</td>\n",
       "      <td>-0.017822</td>\n",
       "      <td>0.052654</td>\n",
       "      <td>0.060677</td>\n",
       "    </tr>\n",
       "    <tr>\n",
       "      <th>3</th>\n",
       "      <td>3</td>\n",
       "      <td>30601258@N03</td>\n",
       "      <td>10424595844_1009c687e4_o.jpg</td>\n",
       "      <td>f</td>\n",
       "      <td>(38, 43)</td>\n",
       "      <td>-0.112837</td>\n",
       "      <td>0.001386</td>\n",
       "      <td>-0.030106</td>\n",
       "      <td>-0.068910</td>\n",
       "      <td>-0.092794</td>\n",
       "      <td>...</td>\n",
       "      <td>-0.044121</td>\n",
       "      <td>0.028554</td>\n",
       "      <td>-0.055196</td>\n",
       "      <td>-0.032632</td>\n",
       "      <td>-0.267007</td>\n",
       "      <td>-0.110302</td>\n",
       "      <td>-0.023602</td>\n",
       "      <td>-0.005010</td>\n",
       "      <td>0.025858</td>\n",
       "      <td>0.025436</td>\n",
       "    </tr>\n",
       "    <tr>\n",
       "      <th>4</th>\n",
       "      <td>4</td>\n",
       "      <td>30601258@N03</td>\n",
       "      <td>10190308156_5c748ab2da_o.jpg</td>\n",
       "      <td>m</td>\n",
       "      <td>(25, 32)</td>\n",
       "      <td>-0.101052</td>\n",
       "      <td>0.093247</td>\n",
       "      <td>0.077053</td>\n",
       "      <td>-0.071299</td>\n",
       "      <td>-0.090539</td>\n",
       "      <td>...</td>\n",
       "      <td>0.003219</td>\n",
       "      <td>0.025305</td>\n",
       "      <td>-0.047061</td>\n",
       "      <td>-0.062078</td>\n",
       "      <td>-0.204218</td>\n",
       "      <td>-0.132275</td>\n",
       "      <td>-0.058921</td>\n",
       "      <td>0.034308</td>\n",
       "      <td>0.060252</td>\n",
       "      <td>0.074107</td>\n",
       "    </tr>\n",
       "  </tbody>\n",
       "</table>\n",
       "<p>5 rows × 133 columns</p>\n",
       "</div>"
      ],
      "text/plain": [
       "   Unnamed: 0             0                             1  2         3  \\\n",
       "0           0  30601258@N03  10424815813_e94629b1ec_o.jpg  m  (25, 32)   \n",
       "1           1  30601258@N03  10437979845_5985be4b26_o.jpg  m  (25, 32)   \n",
       "2           2  30601258@N03  11816644924_075c3d8d59_o.jpg  m  (25, 32)   \n",
       "3           3  30601258@N03  10424595844_1009c687e4_o.jpg  f  (38, 43)   \n",
       "4           4  30601258@N03  10190308156_5c748ab2da_o.jpg  m  (25, 32)   \n",
       "\n",
       "          4         5         6         7         8  ...       122       123  \\\n",
       "0 -0.083294  0.087730  0.054649 -0.078772 -0.080640  ...  0.077006  0.031769   \n",
       "1 -0.164970  0.121995  0.052119 -0.091033 -0.089395  ...  0.089980  0.020260   \n",
       "2 -0.115149  0.089949  0.051598 -0.037451 -0.072356  ...  0.027709  0.034753   \n",
       "3 -0.112837  0.001386 -0.030106 -0.068910 -0.092794  ... -0.044121  0.028554   \n",
       "4 -0.101052  0.093247  0.077053 -0.071299 -0.090539  ...  0.003219  0.025305   \n",
       "\n",
       "        124       125       126       127       128       129       130  \\\n",
       "0 -0.011822 -0.080471 -0.171120 -0.138578 -0.046703  0.034158  0.044308   \n",
       "1  0.035951 -0.019216 -0.122825 -0.077148  0.033474  0.007737  0.004064   \n",
       "2 -0.023607 -0.066158 -0.171793 -0.112601 -0.049470 -0.017822  0.052654   \n",
       "3 -0.055196 -0.032632 -0.267007 -0.110302 -0.023602 -0.005010  0.025858   \n",
       "4 -0.047061 -0.062078 -0.204218 -0.132275 -0.058921  0.034308  0.060252   \n",
       "\n",
       "        131  \n",
       "0  0.026031  \n",
       "1  0.013872  \n",
       "2  0.060677  \n",
       "3  0.025436  \n",
       "4  0.074107  \n",
       "\n",
       "[5 rows x 133 columns]"
      ]
     },
     "execution_count": 15,
     "metadata": {},
     "output_type": "execute_result"
    }
   ],
   "source": [
    "final_df.head()"
   ]
  },
  {
   "cell_type": "code",
   "execution_count": 16,
   "metadata": {
    "colab": {
     "base_uri": "https://localhost:8080/",
     "height": 34
    },
    "colab_type": "code",
    "id": "Di1aE8JiSWTk",
    "outputId": "9aa162ab-4acd-4be2-de24-9e09fe569233"
   },
   "outputs": [
    {
     "data": {
      "text/plain": [
       "(12545, 133)"
      ]
     },
     "execution_count": 16,
     "metadata": {},
     "output_type": "execute_result"
    }
   ],
   "source": [
    "trial_df = final_df.copy()\n",
    "trial_df.shape"
   ]
  },
  {
   "cell_type": "code",
   "execution_count": 17,
   "metadata": {
    "colab": {},
    "colab_type": "code",
    "id": "-o9o-MxeSV8v"
   },
   "outputs": [],
   "source": [
    "img_df = trial_df[['0' , '1' , '2' , '3']]"
   ]
  },
  {
   "cell_type": "code",
   "execution_count": 18,
   "metadata": {
    "colab": {},
    "colab_type": "code",
    "id": "9hDYRiyxSV6U"
   },
   "outputs": [],
   "source": [
    "trial_df = trial_df.drop(['0','1','2','3'],axis=1)"
   ]
  },
  {
   "cell_type": "code",
   "execution_count": 19,
   "metadata": {},
   "outputs": [],
   "source": [
    "trial_df = trial_df.drop('Unnamed: 0',axis=1)"
   ]
  },
  {
   "cell_type": "code",
   "execution_count": 20,
   "metadata": {
    "colab": {
     "base_uri": "https://localhost:8080/",
     "height": 34
    },
    "colab_type": "code",
    "id": "ypqSmO73SV2r",
    "outputId": "11ad2649-b419-4a16-81db-905f6d9ccab4"
   },
   "outputs": [
    {
     "data": {
      "text/plain": [
       "(12545, 128)"
      ]
     },
     "execution_count": 20,
     "metadata": {},
     "output_type": "execute_result"
    }
   ],
   "source": [
    "trial_df.shape"
   ]
  },
  {
   "cell_type": "code",
   "execution_count": 21,
   "metadata": {
    "colab": {
     "base_uri": "https://localhost:8080/",
     "height": 204
    },
    "colab_type": "code",
    "id": "d70_m53YT_Et",
    "outputId": "68612d28-7003-4e89-b774-451ef0bb4a9d"
   },
   "outputs": [
    {
     "data": {
      "text/html": [
       "<div>\n",
       "<style scoped>\n",
       "    .dataframe tbody tr th:only-of-type {\n",
       "        vertical-align: middle;\n",
       "    }\n",
       "\n",
       "    .dataframe tbody tr th {\n",
       "        vertical-align: top;\n",
       "    }\n",
       "\n",
       "    .dataframe thead th {\n",
       "        text-align: right;\n",
       "    }\n",
       "</style>\n",
       "<table border=\"1\" class=\"dataframe\">\n",
       "  <thead>\n",
       "    <tr style=\"text-align: right;\">\n",
       "      <th></th>\n",
       "      <th>0</th>\n",
       "      <th>1</th>\n",
       "      <th>2</th>\n",
       "      <th>3</th>\n",
       "    </tr>\n",
       "  </thead>\n",
       "  <tbody>\n",
       "    <tr>\n",
       "      <th>0</th>\n",
       "      <td>30601258@N03</td>\n",
       "      <td>10424815813_e94629b1ec_o.jpg</td>\n",
       "      <td>m</td>\n",
       "      <td>(25, 32)</td>\n",
       "    </tr>\n",
       "    <tr>\n",
       "      <th>1</th>\n",
       "      <td>30601258@N03</td>\n",
       "      <td>10437979845_5985be4b26_o.jpg</td>\n",
       "      <td>m</td>\n",
       "      <td>(25, 32)</td>\n",
       "    </tr>\n",
       "    <tr>\n",
       "      <th>2</th>\n",
       "      <td>30601258@N03</td>\n",
       "      <td>11816644924_075c3d8d59_o.jpg</td>\n",
       "      <td>m</td>\n",
       "      <td>(25, 32)</td>\n",
       "    </tr>\n",
       "    <tr>\n",
       "      <th>3</th>\n",
       "      <td>30601258@N03</td>\n",
       "      <td>10424595844_1009c687e4_o.jpg</td>\n",
       "      <td>f</td>\n",
       "      <td>(38, 43)</td>\n",
       "    </tr>\n",
       "    <tr>\n",
       "      <th>4</th>\n",
       "      <td>30601258@N03</td>\n",
       "      <td>10190308156_5c748ab2da_o.jpg</td>\n",
       "      <td>m</td>\n",
       "      <td>(25, 32)</td>\n",
       "    </tr>\n",
       "  </tbody>\n",
       "</table>\n",
       "</div>"
      ],
      "text/plain": [
       "              0                             1  2         3\n",
       "0  30601258@N03  10424815813_e94629b1ec_o.jpg  m  (25, 32)\n",
       "1  30601258@N03  10437979845_5985be4b26_o.jpg  m  (25, 32)\n",
       "2  30601258@N03  11816644924_075c3d8d59_o.jpg  m  (25, 32)\n",
       "3  30601258@N03  10424595844_1009c687e4_o.jpg  f  (38, 43)\n",
       "4  30601258@N03  10190308156_5c748ab2da_o.jpg  m  (25, 32)"
      ]
     },
     "execution_count": 21,
     "metadata": {},
     "output_type": "execute_result"
    }
   ],
   "source": [
    "img_df.head()"
   ]
  },
  {
   "cell_type": "code",
   "execution_count": 22,
   "metadata": {
    "colab": {},
    "colab_type": "code",
    "id": "qRoUEHyaSVxP"
   },
   "outputs": [],
   "source": [
    "y = img_df.copy()"
   ]
  },
  {
   "cell_type": "code",
   "execution_count": 23,
   "metadata": {
    "colab": {},
    "colab_type": "code",
    "id": "wB4CS7IOT06Q"
   },
   "outputs": [],
   "source": [
    "y = y['2']"
   ]
  },
  {
   "cell_type": "code",
   "execution_count": 24,
   "metadata": {
    "colab": {
     "base_uri": "https://localhost:8080/",
     "height": 34
    },
    "colab_type": "code",
    "id": "MdmjGHpjWKrI",
    "outputId": "6f0f2a8a-082d-4dc7-be69-8cca90361fdf"
   },
   "outputs": [
    {
     "data": {
      "text/plain": [
       "array(['m', 'f', nan, 'u'], dtype=object)"
      ]
     },
     "execution_count": 24,
     "metadata": {},
     "output_type": "execute_result"
    }
   ],
   "source": [
    "y.unique()"
   ]
  },
  {
   "cell_type": "code",
   "execution_count": 25,
   "metadata": {
    "colab": {
     "base_uri": "https://localhost:8080/",
     "height": 34
    },
    "colab_type": "code",
    "id": "4sANmkLuWac5",
    "outputId": "4bf14b32-2d16-46e0-9f77-b6574f8d6ae5"
   },
   "outputs": [
    {
     "data": {
      "text/plain": [
       "(12545,)"
      ]
     },
     "execution_count": 25,
     "metadata": {},
     "output_type": "execute_result"
    }
   ],
   "source": [
    "y.shape"
   ]
  },
  {
   "cell_type": "code",
   "execution_count": 26,
   "metadata": {
    "colab": {},
    "colab_type": "code",
    "id": "ZkP3LG1bXL1G"
   },
   "outputs": [],
   "source": [
    "from random import randint\n",
    "y = y.fillna(randint(0,2))"
   ]
  },
  {
   "cell_type": "code",
   "execution_count": 27,
   "metadata": {
    "colab": {},
    "colab_type": "code",
    "id": "HPqOhznPWH7b"
   },
   "outputs": [],
   "source": [
    "y = y.replace('f',0)\n",
    "y = y.replace('m',1)\n",
    "y = y.replace('u',2)"
   ]
  },
  {
   "cell_type": "code",
   "execution_count": 28,
   "metadata": {
    "colab": {
     "base_uri": "https://localhost:8080/",
     "height": 34
    },
    "colab_type": "code",
    "id": "H6P02bIOWH1H",
    "outputId": "86bb8dfc-a3f9-4e59-80f2-572579f4eb38"
   },
   "outputs": [
    {
     "data": {
      "text/plain": [
       "array([1, 0, 2])"
      ]
     },
     "execution_count": 28,
     "metadata": {},
     "output_type": "execute_result"
    }
   ],
   "source": [
    "\n",
    "y.unique()"
   ]
  },
  {
   "cell_type": "code",
   "execution_count": 29,
   "metadata": {
    "colab": {},
    "colab_type": "code",
    "id": "HHJw0m2Bx8r5"
   },
   "outputs": [],
   "source": [
    "X_train, X_test, y_train, y_test = train_test_split(trial_df, y,test_size=0.3, random_state=17)"
   ]
  },
  {
   "cell_type": "code",
   "execution_count": 30,
   "metadata": {
    "colab": {
     "base_uri": "https://localhost:8080/",
     "height": 34
    },
    "colab_type": "code",
    "id": "bij_f9a1U4Ho",
    "outputId": "77ca4c96-6e19-48ee-c432-b5470f3799f0"
   },
   "outputs": [
    {
     "data": {
      "text/plain": [
       "((8781, 128), (8781,))"
      ]
     },
     "execution_count": 30,
     "metadata": {},
     "output_type": "execute_result"
    }
   ],
   "source": [
    "X_train.shape , y_train.shape"
   ]
  },
  {
   "cell_type": "code",
   "execution_count": 31,
   "metadata": {
    "colab": {
     "base_uri": "https://localhost:8080/",
     "height": 105
    },
    "colab_type": "code",
    "id": "Hye-g8F8R14U",
    "outputId": "6bdf5ea0-b5c9-4878-e8fd-87099829afa8"
   },
   "outputs": [
    {
     "name": "stderr",
     "output_type": "stream",
     "text": [
      "/home/omkar/.local/lib/python3.6/site-packages/sklearn/linear_model/logistic.py:433: FutureWarning: Default solver will be changed to 'lbfgs' in 0.22. Specify a solver to silence this warning.\n",
      "  FutureWarning)\n"
     ]
    },
    {
     "name": "stdout",
     "output_type": "stream",
     "text": [
      "Accuracy of Logistic regression classifier on training set: 0.76\n",
      "Accuracy of Logistic regression classifier on test set: 0.74\n"
     ]
    }
   ],
   "source": [
    "logreg = LogisticRegression(random_state=17,multi_class='auto')\n",
    "logreg.fit(X_train, y_train)\n",
    "print('Accuracy of Logistic regression classifier on training set: {:.2f}'.format(logreg.score(X_train, y_train)))\n",
    "print('Accuracy of Logistic regression classifier on test set: {:.2f}'.format(logreg.score(X_test, y_test)))"
   ]
  },
  {
   "cell_type": "code",
   "execution_count": 0,
   "metadata": {
    "colab": {
     "base_uri": "https://localhost:8080/",
     "height": 51
    },
    "colab_type": "code",
    "id": "YqGFd5nXR1z7",
    "outputId": "27cca00a-67e6-4a53-ab9a-742502e9d394"
   },
   "outputs": [
    {
     "name": "stdout",
     "output_type": "stream",
     "text": [
      "Accuracy of Decision Tree classifier on training set: 1.00\n",
      "Accuracy of Decision Tree classifier on test set: 0.65\n"
     ]
    }
   ],
   "source": [
    "from sklearn.tree import DecisionTreeClassifier\n",
    "clf = DecisionTreeClassifier().fit(X_train, y_train)\n",
    "print('Accuracy of Decision Tree classifier on training set: {:.2f}'\n",
    "     .format(clf.score(X_train, y_train)))\n",
    "print('Accuracy of Decision Tree classifier on test set: {:.2f}'\n",
    "     .format(clf.score(X_test, y_test)))"
   ]
  },
  {
   "cell_type": "code",
   "execution_count": 0,
   "metadata": {
    "colab": {
     "base_uri": "https://localhost:8080/",
     "height": 51
    },
    "colab_type": "code",
    "id": "AA1dluo5R1e4",
    "outputId": "60ab9573-9bbc-4ec2-8a96-ce02744862f8"
   },
   "outputs": [
    {
     "name": "stdout",
     "output_type": "stream",
     "text": [
      "Accuracy of K-NN classifier on training set: 0.71\n",
      "Accuracy of K-NN classifier on test set: 0.55\n"
     ]
    }
   ],
   "source": [
    "from sklearn.neighbors import KNeighborsClassifier\n",
    "knn = KNeighborsClassifier()\n",
    "knn.fit(X_train, y_train)\n",
    "print('Accuracy of K-NN classifier on training set: {:.2f}'\n",
    "     .format(knn.score(X_train, y_train)))\n",
    "print('Accuracy of K-NN classifier on test set: {:.2f}'\n",
    "     .format(knn.score(X_test, y_test)))"
   ]
  },
  {
   "cell_type": "code",
   "execution_count": 0,
   "metadata": {
    "colab": {
     "base_uri": "https://localhost:8080/",
     "height": 51
    },
    "colab_type": "code",
    "id": "6Qrgmez4R1Vc",
    "outputId": "5dfb9392-1e3d-4cfb-8280-9aa78cece6dd"
   },
   "outputs": [
    {
     "name": "stdout",
     "output_type": "stream",
     "text": [
      "Accuracy of GNB classifier on training set: 0.66\n",
      "Accuracy of GNB classifier on test set: 0.64\n"
     ]
    }
   ],
   "source": [
    "from sklearn.naive_bayes import GaussianNB\n",
    "gnb = GaussianNB()\n",
    "gnb.fit(X_train, y_train)\n",
    "print('Accuracy of GNB classifier on training set: {:.2f}'\n",
    "     .format(gnb.score(X_train, y_train)))\n",
    "print('Accuracy of GNB classifier on test set: {:.2f}'\n",
    "     .format(gnb.score(X_test, y_test)))"
   ]
  },
  {
   "cell_type": "code",
   "execution_count": 0,
   "metadata": {
    "colab": {
     "base_uri": "https://localhost:8080/",
     "height": 51
    },
    "colab_type": "code",
    "id": "utXQ7Wj9SO3b",
    "outputId": "9e8f91a1-86de-4de4-c8b8-5b1bd27c508c"
   },
   "outputs": [
    {
     "name": "stdout",
     "output_type": "stream",
     "text": [
      "Accuracy of SVM classifier on training set: 0.53\n",
      "Accuracy of SVM classifier on test set: 0.51\n"
     ]
    }
   ],
   "source": [
    "clf = svm.SVC(gamma='scale')\n",
    "clf.fit(X_train, y_train)\n",
    "print('Accuracy of SVM classifier on training set: {:.2f}'\n",
    "     .format(clf.score(X_train, y_train)))\n",
    "print('Accuracy of SVM classifier on test set: {:.2f}'\n",
    "     .format(clf.score(X_test, y_test)))"
   ]
  },
  {
   "cell_type": "code",
   "execution_count": 0,
   "metadata": {
    "colab": {
     "base_uri": "https://localhost:8080/",
     "height": 238
    },
    "colab_type": "code",
    "id": "OH4B63qFSSIg",
    "outputId": "80164894-15ea-4889-87c0-92348a033887"
   },
   "outputs": [
    {
     "name": "stdout",
     "output_type": "stream",
     "text": [
      "[[1394  372   17]\n",
      " [ 485 1282    6]\n",
      " [  47  102   59]]\n",
      "              precision    recall  f1-score   support\n",
      "\n",
      "         0.0       0.72      0.78      0.75      1783\n",
      "         1.0       0.73      0.72      0.73      1773\n",
      "         2.0       0.72      0.28      0.41       208\n",
      "\n",
      "   micro avg       0.73      0.73      0.73      3764\n",
      "   macro avg       0.72      0.60      0.63      3764\n",
      "weighted avg       0.73      0.73      0.72      3764\n",
      "\n"
     ]
    }
   ],
   "source": [
    "from sklearn.metrics import classification_report\n",
    "from sklearn.metrics import confusion_matrix\n",
    "pred = logreg.predict(X_test)\n",
    "print(confusion_matrix(y_test, pred))\n",
    "print(classification_report(y_test, pred))"
   ]
  },
  {
   "cell_type": "code",
   "execution_count": 0,
   "metadata": {
    "colab": {},
    "colab_type": "code",
    "id": "wmoxH_Z8SSDv"
   },
   "outputs": [],
   "source": []
  },
  {
   "cell_type": "code",
   "execution_count": 0,
   "metadata": {
    "colab": {
     "base_uri": "https://localhost:8080/",
     "height": 34
    },
    "colab_type": "code",
    "id": "89KUBBaIYWXE",
    "outputId": "fccc18a0-8817-47e1-83d6-5a2525878015"
   },
   "outputs": [
    {
     "data": {
      "text/plain": [
       "[0.001, 0.01, 0.1, 1, 10, 100, 1000]"
      ]
     },
     "execution_count": 91,
     "metadata": {
      "tags": []
     },
     "output_type": "execute_result"
    }
   ],
   "source": [
    "penalty = ['l1', 'l2']\n",
    "para_C = [0.001, 0.01, 0.1, 1, 10, 100, 1000] \n",
    "hyperparameters = dict(C=para_C, penalty=penalty)\n",
    "# para_C"
   ]
  },
  {
   "cell_type": "code",
   "execution_count": 0,
   "metadata": {
    "colab": {},
    "colab_type": "code",
    "id": "b-j-2a-yYXGB"
   },
   "outputs": [],
   "source": [
    "logreg = LogisticRegression(random_state=17,multi_class='auto')\n",
    "clf = GridSearchCV(logreg, hyperparameters, cv=5, verbose=0)"
   ]
  },
  {
   "cell_type": "code",
   "execution_count": 0,
   "metadata": {
    "colab": {},
    "colab_type": "code",
    "id": "t8qETDq_YWTh"
   },
   "outputs": [],
   "source": [
    "best_model = clf.fit(X_train , y_train)"
   ]
  },
  {
   "cell_type": "code",
   "execution_count": 0,
   "metadata": {
    "colab": {
     "base_uri": "https://localhost:8080/",
     "height": 34
    },
    "colab_type": "code",
    "id": "3_1TN8WLYuSv",
    "outputId": "4f32913f-9dd6-4b22-8a07-bb4ca4ad3e60"
   },
   "outputs": [
    {
     "data": {
      "text/plain": [
       "0.7561781118323654"
      ]
     },
     "execution_count": 94,
     "metadata": {
      "tags": []
     },
     "output_type": "execute_result"
    }
   ],
   "source": [
    "best_model.best_score_"
   ]
  },
  {
   "cell_type": "code",
   "execution_count": 0,
   "metadata": {
    "colab": {
     "base_uri": "https://localhost:8080/",
     "height": 105
    },
    "colab_type": "code",
    "id": "T5swWjZga0Un",
    "outputId": "75b81fd3-0d70-492a-f6b8-838d653953e9"
   },
   "outputs": [
    {
     "name": "stderr",
     "output_type": "stream",
     "text": [
      "/usr/local/lib/python3.6/dist-packages/sklearn/linear_model/logistic.py:433: FutureWarning: Default solver will be changed to 'lbfgs' in 0.22. Specify a solver to silence this warning.\n",
      "  FutureWarning)\n"
     ]
    },
    {
     "name": "stdout",
     "output_type": "stream",
     "text": [
      "Accuracy of Logistic regression classifier on training set: 0.76\n",
      "Accuracy of Logistic regression classifier on test set: 0.75\n"
     ]
    }
   ],
   "source": [
    "best_model.best_estimator_.fit(X_train,y_train)\n",
    "print('Accuracy of Logistic regression classifier on training set: {:.2f}'.format(best_model.best_estimator_.score(X_train, y_train)))\n",
    "print('Accuracy of Logistic regression classifier on test set: {:.2f}'.format(best_model.best_estimator_.score(X_test, y_test)))"
   ]
  },
  {
   "cell_type": "code",
   "execution_count": 33,
   "metadata": {
    "colab": {},
    "colab_type": "code",
    "id": "goweaDzna56A"
   },
   "outputs": [],
   "source": [
    "model_file = path + 'model.sav'"
   ]
  },
  {
   "cell_type": "code",
   "execution_count": 34,
   "metadata": {
    "colab": {},
    "colab_type": "code",
    "id": "-VHiXpNzbB4E"
   },
   "outputs": [],
   "source": [
    "pickle.dump(logreg,open(model_file,'wb'))"
   ]
  },
  {
   "cell_type": "code",
   "execution_count": 0,
   "metadata": {
    "colab": {},
    "colab_type": "code",
    "id": "t9ZIhyeYbEZl"
   },
   "outputs": [],
   "source": [
    "model = pickle.load(open(model_file,'rb'))"
   ]
  },
  {
   "cell_type": "code",
   "execution_count": 0,
   "metadata": {
    "colab": {},
    "colab_type": "code",
    "id": "947ufYJrbIOf"
   },
   "outputs": [],
   "source": []
  }
 ],
 "metadata": {
  "accelerator": "GPU",
  "colab": {
   "collapsed_sections": [],
   "name": "PApaper.ipynb",
   "provenance": [],
   "version": "0.3.2"
  },
  "kernelspec": {
   "display_name": "Python 3",
   "language": "python",
   "name": "python3"
  },
  "language_info": {
   "codemirror_mode": {
    "name": "ipython",
    "version": 3
   },
   "file_extension": ".py",
   "mimetype": "text/x-python",
   "name": "python",
   "nbconvert_exporter": "python",
   "pygments_lexer": "ipython3",
   "version": "3.6.7"
  }
 },
 "nbformat": 4,
 "nbformat_minor": 1
}
